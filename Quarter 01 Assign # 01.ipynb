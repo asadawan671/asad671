{
 "cells": [
  {
   "cell_type": "markdown",
   "metadata": {},
   "source": [
    "# Calulate Area of a Circle\n",
    "Write a Python program which accepts the radius of a circle from the user and compute the area."
   ]
  },
  {
   "cell_type": "code",
   "execution_count": 1,
   "metadata": {},
   "outputs": [
    {
     "name": "stdout",
     "output_type": "stream",
     "text": [
      "Input Radius: 4\n",
      "Area of Circle with radius  4 is  50.26548245743669\n"
     ]
    }
   ],
   "source": [
    "import numpy as np\n",
    "import math\n",
    "radius = input(\"Input Radius: \")\n",
    "area = np.pi * math.pow(float(radius),2)\n",
    "print(\"Area of Circle with radius \",radius,\"is \",area)"
   ]
  },
  {
   "cell_type": "markdown",
   "metadata": {},
   "source": [
    "# Check number either positive, negative or zero\n",
    "Write a Python program to check if a number is positive, negative or zero"
   ]
  },
  {
   "cell_type": "code",
   "execution_count": 2,
   "metadata": {},
   "outputs": [
    {
     "name": "stdout",
     "output_type": "stream",
     "text": [
      "Enter number: 4\n",
      "Positive Number Entered\n"
     ]
    }
   ],
   "source": [
    "number = input(\"Enter number: \")\n",
    "if int(number) == 0:\n",
    "    print(\"Zero Entered\")\n",
    "elif int(number) < 0:\n",
    "    print(\"Negative Number Entered\")\n",
    "else:\n",
    "    print(\"Positive Number Entered\")"
   ]
  },
  {
   "cell_type": "markdown",
   "metadata": {},
   "source": [
    "# Divisibility Check of two numbers\n",
    "Write a Python program to check whether a number is completely divisible by another number. Accept two integer\n",
    "values form the user"
   ]
  },
  {
   "cell_type": "code",
   "execution_count": 3,
   "metadata": {},
   "outputs": [
    {
     "name": "stdout",
     "output_type": "stream",
     "text": [
      "Enter Numerator: 34\n",
      "Enter Denominator: 13\n",
      "Number 34 is not Completely divisible by 13\n"
     ]
    }
   ],
   "source": [
    "num = int(input(\"Enter Numerator: \"))\n",
    "den = int(input(\"Enter Denominator: \"))\n",
    "if num%den == 0:\n",
    "    print(\"Number\",num,\"is Completely divisible by\",den)\n",
    "else:\n",
    "    print(\"Number\",num,\"is not Completely divisible by\",den)"
   ]
  },
  {
   "cell_type": "markdown",
   "metadata": {},
   "source": [
    "# Days Calculator\n",
    "Write a Python program to calculate number of days between two dates"
   ]
  },
  {
   "cell_type": "code",
   "execution_count": 4,
   "metadata": {},
   "outputs": [
    {
     "name": "stdout",
     "output_type": "stream",
     "text": [
      "Enter first date in Y,m,d format:2019,6,30\n",
      "Enter second date in Y,m,d format:1995,9,5\n"
     ]
    },
    {
     "data": {
      "text/plain": [
       "-8699"
      ]
     },
     "execution_count": 4,
     "metadata": {},
     "output_type": "execute_result"
    }
   ],
   "source": [
    "import datetime\n",
    "x = input(\"Enter first date in Y,m,d format:\")\n",
    "y = input(\"Enter second date in Y,m,d format:\")\n",
    "a = datetime.datetime.strptime(x,\"%Y,%m,%d\")\n",
    "b = datetime.datetime.strptime(y,\"%Y,%m,%d\")\n",
    "(b-a).days"
   ]
  },
  {
   "cell_type": "markdown",
   "metadata": {},
   "source": [
    "# Calculate Volume of Sphere\n",
    "Write a Python program to get the volume of a sphere, please take the radius as input from user"
   ]
  },
  {
   "cell_type": "code",
   "execution_count": 5,
   "metadata": {},
   "outputs": [
    {
     "name": "stdout",
     "output_type": "stream",
     "text": [
      "Enter Radius of Sphere: 5\n",
      "Volume of Sphere with Radius  5.0 is  523.5987755982989\n"
     ]
    }
   ],
   "source": [
    "radius = float(input(\"Enter Radius of Sphere: \"))\n",
    "vol = 4 * math.pi * math.pow(radius,3) / 3\n",
    "print(\"Volume of Sphere with Radius \",radius,\"is \",vol)\n"
   ]
  },
  {
   "cell_type": "markdown",
   "metadata": {},
   "source": [
    "# Copy string n times\n",
    "Write a Python program to get a string which is n (non-negative integer) copies of a given string. "
   ]
  },
  {
   "cell_type": "code",
   "execution_count": 6,
   "metadata": {
    "scrolled": true
   },
   "outputs": [
    {
     "name": "stdout",
     "output_type": "stream",
     "text": [
      "Enter String: 11\n",
      "How many copies of String you need: 2\n",
      "1111\n"
     ]
    }
   ],
   "source": [
    "string = input(\"Enter String: \")\n",
    "times = int(input(\"How many copies of String you need: \"))\n",
    "print(string * times)"
   ]
  },
  {
   "cell_type": "markdown",
   "metadata": {},
   "source": [
    "# Check if number is Even or Odd\n",
    "Write a Python program to find whether a given number (accept from the user) is even or odd, print out an appropriate\n",
    "message to the user"
   ]
  },
  {
   "cell_type": "code",
   "execution_count": 7,
   "metadata": {},
   "outputs": [
    {
     "name": "stdout",
     "output_type": "stream",
     "text": [
      "Enter Number: 4\n",
      "4  is Even\n"
     ]
    }
   ],
   "source": [
    "num = int(input(\"Enter Number: \"))\n",
    "if num%2 == 0:\n",
    "    print(num,\" is Even\")\n",
    "else:\n",
    "    print(num,\" is Odd\")"
   ]
  },
  {
   "cell_type": "markdown",
   "metadata": {},
   "source": [
    "# Vowel Tester\n",
    "Write a Python program to test whether a passed letter is a vowel or not"
   ]
  },
  {
   "cell_type": "code",
   "execution_count": 8,
   "metadata": {},
   "outputs": [
    {
     "name": "stdout",
     "output_type": "stream",
     "text": [
      "Enter a character: e\n",
      "e  is a Vowel\n"
     ]
    }
   ],
   "source": [
    "char = input(\"Enter a character: \")\n",
    "if char =='a' or char == 'A' or char == 'e' or char == 'E' or char == 'i' or char == 'I' or char == 'o' or char == 'O' or char == 'u' or char == 'U':\n",
    "    print(char,\" is a Vowel\")\n",
    "else:\n",
    "    print(char,\" is not Vowel\")"
   ]
  },
  {
   "cell_type": "markdown",
   "metadata": {},
   "source": [
    "# Triangle Area\n",
    "Write a Python program that will accept the base and height of a triangle and compute the area"
   ]
  },
  {
   "cell_type": "code",
   "execution_count": 9,
   "metadata": {},
   "outputs": [
    {
     "name": "stdout",
     "output_type": "stream",
     "text": [
      "Enter magnitude of triangular base: 4\n",
      "Enter magnitude of triangular height: 5\n",
      "Area of a Triangle with base  4 and height  5 is  10\n"
     ]
    }
   ],
   "source": [
    "base = int(input(\"Enter magnitude of triangular base: \"))\n",
    "height = int(input(\"Enter magnitude of triangular height: \"))\n",
    "area = base * height / 2\n",
    "print(\"Area of a Triangle with base \",base,\"and height \",height,\"is \",int(area))"
   ]
  },
  {
   "cell_type": "markdown",
   "metadata": {},
   "source": [
    "# Calculate Interest\n",
    "Write a Python program to compute the future value of a specified principal amount, rate of interest, and a number\n",
    "of years"
   ]
  },
  {
   "cell_type": "code",
   "execution_count": 10,
   "metadata": {},
   "outputs": [
    {
     "name": "stdout",
     "output_type": "stream",
     "text": [
      "Please enter principal amount: 500\n",
      "Please enter rate of interest in %: 0.2\n",
      "Enter number of years for investment: 10\n",
      "After  10.0  years your principal amount  500.0  over an interest rate of  0.2  % will be  1500.0\n"
     ]
    }
   ],
   "source": [
    "pamount = float(input(\"Please enter principal amount: \"))\n",
    "rate = float(input(\"Please enter rate of interest in %: \"))\n",
    "time = float(input(\"Enter number of years for investment: \"))\n",
    "famount = pamount * (1 + (rate * time))\n",
    "print(\"After \",time,\" years your principal amount \",pamount,\" over an interest rate of \",rate,\" % will be \",famount)"
   ]
  },
  {
   "cell_type": "markdown",
   "metadata": {},
   "source": [
    "# Euclidean Distance\n",
    "Write a Python program to compute the distance between the points (x1, y1) and (x2, y2)."
   ]
  },
  {
   "cell_type": "code",
   "execution_count": 11,
   "metadata": {},
   "outputs": [
    {
     "name": "stdout",
     "output_type": "stream",
     "text": [
      "Enter Co-ordinate for x1: 1\n",
      "Enter Co-ordinate for x2: 3\n",
      "Enter Co-ordinate for y1: 7\n",
      "Enter Co-ordinate for y2: 9\n",
      "Distance between points ( 1 ,  7 ) and ( 3 ,  9 ) is  2.8284271247461903\n"
     ]
    }
   ],
   "source": [
    "import math\n",
    "x1 = int(input(\"Enter Co-ordinate for x1: \"))\n",
    "x2 = int(input(\"Enter Co-ordinate for x2: \"))\n",
    "y1 = int(input(\"Enter Co-ordinate for y1: \"))\n",
    "y2 = int(input(\"Enter Co-ordinate for y2: \"))\n",
    "distance = math.sqrt((math.pow(x2-x1,2))+(math.pow(y2-y1,2)))\n",
    "print(\"Distance between points (\",x1,\", \",y1,\") and (\",x2,\", \",y2,\") is \",distance)\n"
   ]
  },
  {
   "cell_type": "markdown",
   "metadata": {},
   "source": [
    "# Feet to Centimeter Converter\n",
    "Write a Python program to convert height in feet to centimetres."
   ]
  },
  {
   "cell_type": "code",
   "execution_count": 12,
   "metadata": {},
   "outputs": [
    {
     "name": "stdout",
     "output_type": "stream",
     "text": [
      "Enter Height in Feet: 4\n",
      "There are  121.92  cm in  4.0 ft\n"
     ]
    }
   ],
   "source": [
    "feet = float(input(\"Enter Height in Feet: \"))\n",
    "cent = 30.48 * feet\n",
    "print(\"There are \",cent,\" cm in \",feet,\"ft\")"
   ]
  },
  {
   "cell_type": "markdown",
   "metadata": {},
   "source": [
    "# BMI Calculator\n",
    "Write a Python program to calculate body mass index."
   ]
  },
  {
   "cell_type": "code",
   "execution_count": 13,
   "metadata": {},
   "outputs": [
    {
     "name": "stdout",
     "output_type": "stream",
     "text": [
      "Enter Height in cm: 174\n",
      "Enter Weight in kg: 67\n",
      "Your BMI is 22.13\n"
     ]
    }
   ],
   "source": [
    "import math\n",
    "height = float(input(\"Enter Height in cm: \"))\n",
    "weight = float(input(\"Enter Weight in kg: \"))\n",
    "bmi = weight / (math.pow(height/100,2))\n",
    "print(\"Your BMI is {:.2f}\".format(bmi))"
   ]
  },
  {
   "cell_type": "markdown",
   "metadata": {},
   "source": [
    "# Sum of n positive integers\n",
    "Write a python program to sum of the first n positive integers"
   ]
  },
  {
   "cell_type": "code",
   "execution_count": 14,
   "metadata": {},
   "outputs": [
    {
     "name": "stdout",
     "output_type": "stream",
     "text": [
      "Enter value of n: 4\n",
      "10\n"
     ]
    }
   ],
   "source": [
    "sum = 0\n",
    "n = int(input(\"Enter value of n: \"))\n",
    "for i in range(n+1):\n",
    "    sum += i\n",
    "print(sum)\n"
   ]
  },
  {
   "cell_type": "markdown",
   "metadata": {},
   "source": [
    "# Digits Sum of a Number \n",
    "Write a Python program to calculate the sum of the digits in an integer"
   ]
  },
  {
   "cell_type": "code",
   "execution_count": 15,
   "metadata": {},
   "outputs": [
    {
     "name": "stdout",
     "output_type": "stream",
     "text": [
      "Enter a number: 999999\n",
      "54\n"
     ]
    }
   ],
   "source": [
    "sum = 0\n",
    "number = int(input(\"Enter a number: \"))\n",
    "while number:\n",
    "    sum += number % 10\n",
    "    number //= 10\n",
    "print(sum)"
   ]
  },
  {
   "cell_type": "markdown",
   "metadata": {},
   "source": [
    "# Decimal to Binary Converter\n",
    "Write a Python program to convert an decimal integer to binary."
   ]
  },
  {
   "cell_type": "code",
   "execution_count": 16,
   "metadata": {},
   "outputs": [
    {
     "name": "stdout",
     "output_type": "stream",
     "text": [
      "Enter a decimal number: 3\n",
      "Binary representation of 3 is 11\n"
     ]
    }
   ],
   "source": [
    "decimal = int(input('Enter a decimal number: '))\n",
    "print(\"Binary representation of {0} is {0:b}\".format(decimal)) "
   ]
  },
  {
   "cell_type": "markdown",
   "metadata": {},
   "source": [
    "# Binary to Decimal\n",
    "Write a program to convert binary number to Decimal number"
   ]
  },
  {
   "cell_type": "code",
   "execution_count": 17,
   "metadata": {},
   "outputs": [
    {
     "name": "stdout",
     "output_type": "stream",
     "text": [
      "Enter a Binary number: 011101\n",
      "Decimal Representation of 011101 is 29\n"
     ]
    }
   ],
   "source": [
    "binary = input('Enter a Binary number: ')\n",
    "print(\"Decimal Representation of {} is {}\".format(binary,int(binary,2))) "
   ]
  },
  {
   "cell_type": "markdown",
   "metadata": {},
   "source": [
    "# Vowel and Consonants Counter \n",
    "Input a text and count the occurrences of vowels and consonant"
   ]
  },
  {
   "cell_type": "code",
   "execution_count": 18,
   "metadata": {},
   "outputs": [
    {
     "name": "stdout",
     "output_type": "stream",
     "text": [
      "Enter text: asad\n",
      "Vowels = 2\n",
      "Consonants = 2\n"
     ]
    }
   ],
   "source": [
    "vowels = ['a','e','i','o','u']\n",
    "vcount = 0\n",
    "ccount = 0\n",
    "spaces = 0\n",
    "string = input(\"Enter text: \")\n",
    "for i in range(len(string)):\n",
    "    if string[i] in vowels:\n",
    "        vcount += 1\n",
    "    elif string[i] == ' ':\n",
    "        spaces += 1\n",
    "    else:\n",
    "        ccount += 1\n",
    "print(\"Vowels = {}\".format(vcount))\n",
    "print(\"Consonants = {}\".format(ccount))"
   ]
  },
  {
   "cell_type": "markdown",
   "metadata": {},
   "source": [
    "# Palindrome tester \n",
    "Write a program to check whether given input is palindrome or not"
   ]
  },
  {
   "cell_type": "code",
   "execution_count": 19,
   "metadata": {},
   "outputs": [
    {
     "name": "stdout",
     "output_type": "stream",
     "text": [
      "Enter text: asad\n",
      "Text asad is not palindrome\n"
     ]
    }
   ],
   "source": [
    "string = input(\"Enter text: \")\n",
    "stringr = string[::-1]\n",
    "\n",
    "if string == stringr:\n",
    "    print(\"Text {} is palindrome\".format(string))\n",
    "else:\n",
    "    print(\"Text {} is not palindrome\".format(string))"
   ]
  },
  {
   "cell_type": "markdown",
   "metadata": {},
   "source": [
    "# Count Alphabets, Numbers and Special Characters \n",
    "Write a Python program that accepts a string and calculate the number of digits and letters"
   ]
  },
  {
   "cell_type": "code",
   "execution_count": 20,
   "metadata": {},
   "outputs": [
    {
     "name": "stdout",
     "output_type": "stream",
     "text": [
      "Enter text : asad645\n",
      "Numbers =  3\n",
      "Alphabets = 4 \n",
      "Special Characters = 0 \n",
      "Spaces =  0\n"
     ]
    }
   ],
   "source": [
    "string = input(\"Enter text : \")\n",
    "a = 0\n",
    "d = 0\n",
    "s = 0\n",
    "ws = 0\n",
    "for i in range(len(string)):\n",
    "    if(string[i].isalpha()):\n",
    "        a += 1\n",
    "    elif(string[i].isdigit()):\n",
    "        d += 1\n",
    "    elif(string[i]==' '):\n",
    "        ws += 1\n",
    "    else:\n",
    "        s += 1\n",
    "        \n",
    "print(\"Numbers =  {}\".format(d))\n",
    "print(\"Alphabets = {} \".format(a))\n",
    "print(\"Special Characters = {} \".format(s))\n",
    "print(\"Spaces =  {}\".format(ws))\n"
   ]
  },
  {
   "cell_type": "markdown",
   "metadata": {},
   "source": [
    "# Write a python program to construct the pattern"
   ]
  },
  {
   "cell_type": "code",
   "execution_count": 3,
   "metadata": {},
   "outputs": [
    {
     "name": "stdout",
     "output_type": "stream",
     "text": [
      "*\n",
      "\n",
      "**\n",
      "\n",
      "***\n",
      "\n",
      "****\n",
      "\n",
      "*****\n",
      "\n",
      "****\n",
      "\n",
      "***\n",
      "\n",
      "**\n",
      "\n",
      "*\n",
      "\n"
     ]
    }
   ],
   "source": [
    "for i in range(1,6):\n",
    "    for j in range(i):\n",
    "        print(\"*\",end=\"\")\n",
    "    print(\"\\n\")\n",
    "for i in range(4,0,-1):\n",
    "    for j in range(i):\n",
    "        print(\"*\",end=\"\")\n",
    "    print(\"\\n\")"
   ]
  },
  {
   "cell_type": "markdown",
   "metadata": {},
   "source": [
    "# Write a Python Program to construct the pattern"
   ]
  },
  {
   "cell_type": "code",
   "execution_count": 4,
   "metadata": {},
   "outputs": [
    {
     "name": "stdout",
     "output_type": "stream",
     "text": [
      "\n",
      "\n",
      "1\n",
      "\n",
      "12\n",
      "\n",
      "123\n",
      "\n",
      "1234\n",
      "\n",
      "12345\n",
      "\n",
      "1234\n",
      "\n",
      "123\n",
      "\n",
      "12\n",
      "\n",
      "1\n",
      "\n"
     ]
    }
   ],
   "source": [
    "for i in range(6):\n",
    "    for j in range(i):\n",
    "        print(j+1,end=\"\")\n",
    "    print(\"\\n\")\n",
    "for i in range(4,0,-1):\n",
    "    for j in range(i):\n",
    "        print(j+1,end=\"\")\n",
    "    print(\"\\n\")"
   ]
  },
  {
   "cell_type": "markdown",
   "metadata": {},
   "source": [
    "# Write a Python Program to construct the pattern"
   ]
  },
  {
   "cell_type": "code",
   "execution_count": 5,
   "metadata": {},
   "outputs": [
    {
     "name": "stdout",
     "output_type": "stream",
     "text": [
      "\n",
      "\n",
      "1\n",
      "\n",
      "22\n",
      "\n",
      "333\n",
      "\n",
      "4444\n",
      "\n",
      "55555\n",
      "\n",
      "666666\n",
      "\n",
      "7777777\n",
      "\n",
      "88888888\n",
      "\n",
      "999999999\n",
      "\n"
     ]
    }
   ],
   "source": [
    "for i in range(10):\n",
    "    for j in range(i):\n",
    "        print(i,end=\"\")\n",
    "    print(\"\\n\")"
   ]
  }
 ],
 "metadata": {
  "kernelspec": {
   "display_name": "Python 3",
   "language": "python",
   "name": "python3"
  },
  "language_info": {
   "codemirror_mode": {
    "name": "ipython",
    "version": 3
   },
   "file_extension": ".py",
   "mimetype": "text/x-python",
   "name": "python",
   "nbconvert_exporter": "python",
   "pygments_lexer": "ipython3",
   "version": "3.7.3"
  }
 },
 "nbformat": 4,
 "nbformat_minor": 2
}
